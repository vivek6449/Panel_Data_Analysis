{
 "cells": [
  {
   "cell_type": "code",
   "execution_count": 33,
   "metadata": {
    "scrolled": false
   },
   "outputs": [
    {
     "name": "stderr",
     "output_type": "stream",
     "text": [
      "Warning message:\n",
      "“dependency ‘statmod’ is not available”Warning message in install.packages(\"plm\", repos = \"http://R-Forge.R-project.org\"):\n",
      "“installation of package ‘plm’ had non-zero exit status”Updating HTML index of packages in '.Library'\n",
      "Making 'packages.html' ... done\n"
     ]
    }
   ],
   "source": [
    "install.packages(\"plm\", repos=\"http://R-Forge.R-project.org\")"
   ]
  },
  {
   "cell_type": "code",
   "execution_count": 34,
   "metadata": {},
   "outputs": [
    {
     "name": "stderr",
     "output_type": "stream",
     "text": [
      "Updating HTML index of packages in '.Library'\n",
      "Making 'packages.html' ... done\n"
     ]
    }
   ],
   "source": [
    "install.packages(\"plm\")"
   ]
  },
  {
   "cell_type": "code",
   "execution_count": 35,
   "metadata": {},
   "outputs": [],
   "source": [
    "library(plm)"
   ]
  },
  {
   "cell_type": "code",
   "execution_count": 36,
   "metadata": {},
   "outputs": [
    {
     "name": "stderr",
     "output_type": "stream",
     "text": [
      "The following objects are masked from project1 (pos = 3):\n",
      "\n",
      "    Country.Name, id, lnIWR, lnNCDs, lnSFI, OD, Year\n",
      "\n",
      "The following objects are masked from project1 (pos = 4):\n",
      "\n",
      "    Country.Name, id, lnIWR, lnNCDs, lnSFI, OD, Year\n",
      "\n",
      "The following objects are masked from project (pos = 7):\n",
      "\n",
      "    Country.Name, id, lnIWR, lnNCDs, lnOD, lnSFI, lnTHE, OD, THE, Year\n",
      "\n"
     ]
    },
    {
     "data": {
      "text/plain": [
       "      Year            id             Country.Name     lnTHE      \n",
       " Min.   :2000   Min.   :  1.00   Albania   :  2   Min.   :1.269  \n",
       " 1st Qu.:2000   1st Qu.: 26.25   Algeria   :  2   1st Qu.:1.433  \n",
       " Median :2006   Median : 52.00   Angola    :  2   Median :1.487  \n",
       " Mean   :2006   Mean   : 52.00   Argentina :  2   Mean   :1.465  \n",
       " 3rd Qu.:2012   3rd Qu.: 77.75   Armenia   :  2   3rd Qu.:1.509  \n",
       " Max.   :2012   Max.   :103.00   Azerbaijan:  2   Max.   :1.527  \n",
       "                                 (Other)   :194                  \n",
       "     lnNCDs          lnSFI           lnIWR            lnOD        \n",
       " Min.   :2.674   Min.   :1.887   Min.   :3.558   Min.   :-4.6052  \n",
       " 1st Qu.:3.400   1st Qu.:3.312   1st Qu.:4.191   1st Qu.: 0.5449  \n",
       " Median :3.986   Median :4.069   Median :4.422   Median : 2.2554  \n",
       " Mean   :3.821   Mean   :3.824   Mean   :4.336   Mean   : 1.4822  \n",
       " 3rd Qu.:4.275   3rd Qu.:4.416   3rd Qu.:4.523   3rd Qu.: 3.1976  \n",
       " Max.   :4.540   Max.   :4.605   Max.   :4.603   Max.   : 4.4532  \n",
       "                                                                  \n",
       "       OD              THE         \n",
       " Min.   : 0.010   Min.   :  3.195  \n",
       " 1st Qu.: 1.725   1st Qu.: 25.671  \n",
       " Median : 9.550   Median : 72.177  \n",
       " Mean   :17.455   Mean   :153.424  \n",
       " 3rd Qu.:24.475   3rd Qu.:205.623  \n",
       " Max.   :85.900   Max.   :984.923  \n",
       "                                   "
      ]
     },
     "metadata": {},
     "output_type": "display_data"
    }
   ],
   "source": [
    "project <- read.csv(\"/home/vivek/Documents/Datasets/Econometrics/project the.csv\")\n",
    "attach(project)\n",
    "summary(project)"
   ]
  },
  {
   "cell_type": "code",
   "execution_count": 37,
   "metadata": {},
   "outputs": [
    {
     "data": {
      "text/plain": [
       "\n",
       "Call:\n",
       "lm(formula = lnTHE ~ lnNCDs + lnSFI + lnIWR + lnOD, data = project)\n",
       "\n",
       "Residuals:\n",
       "       Min         1Q     Median         3Q        Max \n",
       "-0.0086211 -0.0008389 -0.0000887  0.0011320  0.0035123 \n",
       "\n",
       "Coefficients:\n",
       "              Estimate Std. Error t value Pr(>|t|)    \n",
       "(Intercept)  0.4216920  0.0024950 169.016  < 2e-16 ***\n",
       "lnNCDs      -0.0013957  0.0003699  -3.773 0.000212 ***\n",
       "lnSFI        0.0000146  0.0002851   0.051 0.959193    \n",
       "lnIWR        0.2418271  0.0007014 344.785  < 2e-16 ***\n",
       "lnOD         0.0002255  0.0000633   3.562 0.000460 ***\n",
       "---\n",
       "Signif. codes:  0 ‘***’ 0.001 ‘**’ 0.01 ‘*’ 0.05 ‘.’ 0.1 ‘ ’ 1\n",
       "\n",
       "Residual standard error: 0.001603 on 201 degrees of freedom\n",
       "Multiple R-squared:  0.9993,\tAdjusted R-squared:  0.9992 \n",
       "F-statistic: 6.725e+04 on 4 and 201 DF,  p-value: < 2.2e-16\n"
      ]
     },
     "metadata": {},
     "output_type": "display_data"
    }
   ],
   "source": [
    "ols.lm <- lm(lnTHE ~ lnNCDs + lnSFI + lnIWR + lnOD, data = project)\n",
    "summary(ols.lm)"
   ]
  },
  {
   "cell_type": "code",
   "execution_count": 38,
   "metadata": {},
   "outputs": [
    {
     "data": {
      "text/plain": [
       "\n",
       "\tstudentized Breusch-Pagan test\n",
       "\n",
       "data:  ols.lm\n",
       "BP = 52.305, df = 4, p-value = 1.191e-10\n"
      ]
     },
     "metadata": {},
     "output_type": "display_data"
    }
   ],
   "source": [
    "library(lmtest)\n",
    "bptest(ols.lm)"
   ]
  },
  {
   "cell_type": "code",
   "execution_count": 39,
   "metadata": {},
   "outputs": [
    {
     "data": {
      "text/plain": [
       "Oneway (individual) effect Within Model\n",
       "\n",
       "Call:\n",
       "plm(formula = lnTHE ~ lnNCDs + lnSFI + lnIWR + lnOD, data = project, \n",
       "    model = \"within\")\n",
       "\n",
       "Balanced Panel: n=2, T=103, N=206\n",
       "\n",
       "Residuals :\n",
       "     Min.   1st Qu.    Median   3rd Qu.      Max. \n",
       "-8.62e-03 -8.34e-04 -8.84e-05  1.13e-03  3.52e-03 \n",
       "\n",
       "Coefficients :\n",
       "          Estimate  Std. Error  t-value  Pr(>|t|)    \n",
       "lnNCDs -1.3966e-03  3.7233e-04  -3.7511 0.0002306 ***\n",
       "lnSFI   1.5615e-05  2.8800e-04   0.0542 0.9568143    \n",
       "lnIWR   2.4182e-01  7.0873e-04 341.2091 < 2.2e-16 ***\n",
       "lnOD    2.2562e-04  6.3692e-05   3.5424 0.0004935 ***\n",
       "---\n",
       "Signif. codes:  0 ‘***’ 0.001 ‘**’ 0.01 ‘*’ 0.05 ‘.’ 0.1 ‘ ’ 1\n",
       "\n",
       "Total Sum of Squares:    0.6626\n",
       "Residual Sum of Squares: 0.0005166\n",
       "R-Squared:      0.99922\n",
       "Adj. R-Squared: 0.9992\n",
       "F-statistic: 64081.4 on 4 and 200 DF, p-value: < 2.22e-16"
      ]
     },
     "metadata": {},
     "output_type": "display_data"
    }
   ],
   "source": [
    "fixedTHE <- plm(lnTHE ~ lnNCDs + lnSFI + lnIWR + lnOD, data = project, model = \"within\")\n",
    "summary(fixedTHE)"
   ]
  },
  {
   "cell_type": "code",
   "execution_count": 40,
   "metadata": {},
   "outputs": [
    {
     "data": {
      "text/plain": [
       "Oneway (individual) effect Random Effect Model \n",
       "   (Swamy-Arora's transformation)\n",
       "\n",
       "Call:\n",
       "plm(formula = lnTHE ~ lnNCDs + lnSFI + lnIWR + OD, data = project, \n",
       "    model = \"random\")\n",
       "\n",
       "Balanced Panel: n=2, T=103, N=206\n",
       "\n",
       "Effects:\n",
       "                    var   std.dev share\n",
       "idiosyncratic 2.736e-06 1.654e-03     0\n",
       "individual    2.955e+05 5.436e+02     1\n",
       "theta:  1  \n",
       "\n",
       "Residuals :\n",
       "     Min.   1st Qu.    Median   3rd Qu.      Max. \n",
       "-8.63e-03 -1.04e-03  3.15e-05  1.16e-03  3.80e-03 \n",
       "\n",
       "Coefficients :\n",
       "               Estimate  Std. Error  t-value  Pr(>|t|)    \n",
       "(Intercept)  4.2404e-01  3.8345e+02   0.0011    0.9991    \n",
       "lnNCDs      -1.7355e-03  3.7296e-04  -4.6533  5.92e-06 ***\n",
       "lnSFI       -1.2732e-04  3.4298e-04  -0.3712    0.7109    \n",
       "lnIWR        2.4176e-01  7.2851e-04 331.8548 < 2.2e-16 ***\n",
       "OD           7.1758e-06  8.5815e-06   0.8362    0.4040    \n",
       "---\n",
       "Signif. codes:  0 ‘***’ 0.001 ‘**’ 0.01 ‘*’ 0.05 ‘.’ 0.1 ‘ ’ 1\n",
       "\n",
       "Total Sum of Squares:    0.6626\n",
       "Residual Sum of Squares: 0.00054711\n",
       "R-Squared:      0.99917\n",
       "Adj. R-Squared: 0.99916\n",
       "F-statistic: 60807.7 on 4 and 201 DF, p-value: < 2.22e-16"
      ]
     },
     "metadata": {},
     "output_type": "display_data"
    }
   ],
   "source": [
    "randomTHE <- plm(lnTHE ~ lnNCDs + lnSFI + lnIWR + OD , data = project, model = \"random\")\n",
    "summary(randomTHE)"
   ]
  },
  {
   "cell_type": "code",
   "execution_count": 41,
   "metadata": {},
   "outputs": [
    {
     "data": {
      "text/plain": [
       "\n",
       "\tHausman Test\n",
       "\n",
       "data:  lnTHE ~ lnNCDs + lnSFI + lnIWR + lnOD\n",
       "chisq = 17.371, df = 3, p-value = 0.0005927\n",
       "alternative hypothesis: one model is inconsistent\n"
      ]
     },
     "metadata": {},
     "output_type": "display_data"
    }
   ],
   "source": [
    "phtest(fixedTHE,randomTHE)"
   ]
  },
  {
   "cell_type": "code",
   "execution_count": 42,
   "metadata": {},
   "outputs": [
    {
     "name": "stderr",
     "output_type": "stream",
     "text": [
      "The following objects are masked from project (pos = 3):\n",
      "\n",
      "    Country.Name, id, lnIWR, lnNCDs, lnSFI, OD, Year\n",
      "\n",
      "The following objects are masked from project1 (pos = 4):\n",
      "\n",
      "    Country.Name, GNI, id, IWR, lnGNI, lnGNI.1, lnIWR, lnNCDs, lnOPhE,\n",
      "    lnSFI, OD, OPHE, X, X.1, X.10, X.11, X.12, X.13, X.14, X.2, X.3,\n",
      "    X.4, X.5, X.6, X.7, X.8, X.9, X5.478607144, Year\n",
      "\n",
      "The following objects are masked from project1 (pos = 5):\n",
      "\n",
      "    Country.Name, GNI, id, IWR, lnGNI, lnGNI.1, lnIWR, lnNCDs, lnOPhE,\n",
      "    lnSFI, OD, OPHE, X, X.1, X.10, X.11, X.12, X.13, X.14, X.2, X.3,\n",
      "    X.4, X.5, X.6, X.7, X.8, X.9, X5.478607144, Year\n",
      "\n",
      "The following objects are masked from project (pos = 8):\n",
      "\n",
      "    Country.Name, id, lnIWR, lnNCDs, lnSFI, OD, Year\n",
      "\n"
     ]
    },
    {
     "data": {
      "text/plain": [
       "      Year            id             lnGNI           lnNCDs     \n",
       " Min.   :2000   Min.   :  1.00   Min.   :4.700   Min.   :2.674  \n",
       " 1st Qu.:2000   1st Qu.: 26.25   1st Qu.:6.239   1st Qu.:3.400  \n",
       " Median :2006   Median : 52.00   Median :7.219   Median :3.986  \n",
       " Mean   :2006   Mean   : 52.00   Mean   :7.180   Mean   :3.821  \n",
       " 3rd Qu.:2012   3rd Qu.: 77.75   3rd Qu.:8.147   3rd Qu.:4.275  \n",
       " Max.   :2012   Max.   :103.00   Max.   :9.433   Max.   :4.540  \n",
       "     lnSFI           lnOPhE          lnIWR      \n",
       " Min.   :1.887   Min.   :1.177   Min.   :3.558  \n",
       " 1st Qu.:3.312   1st Qu.:3.255   1st Qu.:4.191  \n",
       " Median :4.069   Median :3.738   Median :4.422  \n",
       " Mean   :3.824   Mean   :3.555   Mean   :4.336  \n",
       " 3rd Qu.:4.416   3rd Qu.:4.002   3rd Qu.:4.523  \n",
       " Max.   :4.605   Max.   :4.452   Max.   :4.603  "
      ]
     },
     "metadata": {},
     "output_type": "display_data"
    }
   ],
   "source": [
    "project1 <- read.csv(\"/home/vivek/Documents/Datasets/Econometrics/project GNI.csv\")\n",
    "attach(project1)\n",
    "summary(project1[, c('Year','id','lnGNI','lnNCDs','lnSFI','lnOPhE','lnIWR')])"
   ]
  },
  {
   "cell_type": "code",
   "execution_count": 43,
   "metadata": {},
   "outputs": [
    {
     "data": {
      "text/plain": [
       "\n",
       "Call:\n",
       "lm(formula = lnGNI ~ lnNCDs + lnSFI + lnOPhE + lnIWR, data = project1)\n",
       "\n",
       "Residuals:\n",
       "     Min       1Q   Median       3Q      Max \n",
       "-2.01681 -0.49398  0.05321  0.44047  2.37738 \n",
       "\n",
       "Coefficients:\n",
       "            Estimate Std. Error t value Pr(>|t|)    \n",
       "(Intercept)  0.31233    1.20346   0.260 0.795497    \n",
       "lnNCDs       0.64120    0.17764   3.610 0.000387 ***\n",
       "lnSFI        0.38617    0.13439   2.874 0.004494 ** \n",
       "lnOPhE      -0.48172    0.09007  -5.348  2.4e-07 ***\n",
       "lnIWR        1.07310    0.34444   3.115 0.002105 ** \n",
       "---\n",
       "Signif. codes:  0 ‘***’ 0.001 ‘**’ 0.01 ‘*’ 0.05 ‘.’ 0.1 ‘ ’ 1\n",
       "\n",
       "Residual standard error: 0.7859 on 201 degrees of freedom\n",
       "Multiple R-squared:  0.548,\tAdjusted R-squared:  0.539 \n",
       "F-statistic: 60.93 on 4 and 201 DF,  p-value: < 2.2e-16\n"
      ]
     },
     "metadata": {},
     "output_type": "display_data"
    }
   ],
   "source": [
    "ols1.lm <- lm(lnGNI ~ lnNCDs + lnSFI + lnOPhE + lnIWR, data = project1)\n",
    "summary(ols1.lm)"
   ]
  },
  {
   "cell_type": "code",
   "execution_count": 44,
   "metadata": {},
   "outputs": [
    {
     "data": {
      "text/plain": [
       "\n",
       "\tstudentized Breusch-Pagan test\n",
       "\n",
       "data:  ols1.lm\n",
       "BP = 16.593, df = 4, p-value = 0.002319\n"
      ]
     },
     "metadata": {},
     "output_type": "display_data"
    }
   ],
   "source": [
    "library(lmtest)\n",
    "bptest(ols1.lm)"
   ]
  },
  {
   "cell_type": "code",
   "execution_count": 45,
   "metadata": {},
   "outputs": [
    {
     "name": "stdout",
     "output_type": "stream",
     "text": [
      "These series are NA and have been removed: X, X.1, X.2, X.3, X.4, X.5, X.6, X.7, X.8, X.9, X.10, X.11, X.12, X.13, X.14\n"
     ]
    },
    {
     "data": {
      "text/plain": [
       "Oneway (individual) effect Within Model\n",
       "\n",
       "Call:\n",
       "plm(formula = lnGNI ~ lnNCDs + lnSFI + lnOPhE + lnIWR, data = project1, \n",
       "    model = \"within\")\n",
       "\n",
       "Balanced Panel: n=2, T=103, N=206\n",
       "\n",
       "Residuals :\n",
       "   Min. 1st Qu.  Median 3rd Qu.    Max. \n",
       "-2.0400 -0.3440  0.0157  0.4580  1.8300 \n",
       "\n",
       "Coefficients :\n",
       "        Estimate Std. Error t-value  Pr(>|t|)    \n",
       "lnNCDs  0.481927   0.158859  3.0337  0.002736 ** \n",
       "lnSFI   0.492528   0.119937  4.1065 5.851e-05 ***\n",
       "lnOPhE -0.398798   0.080587 -4.9487 1.582e-06 ***\n",
       "lnIWR   0.798164   0.307448  2.5961  0.010129 *  \n",
       "---\n",
       "Signif. codes:  0 ‘***’ 0.001 ‘**’ 0.01 ‘*’ 0.05 ‘.’ 0.1 ‘ ’ 1\n",
       "\n",
       "Total Sum of Squares:    215.06\n",
       "Residual Sum of Squares: 97.014\n",
       "R-Squared:      0.5489\n",
       "Adj. R-Squared: 0.53762\n",
       "F-statistic: 60.8403 on 4 and 200 DF, p-value: < 2.22e-16"
      ]
     },
     "metadata": {},
     "output_type": "display_data"
    }
   ],
   "source": [
    "fixedGNI <- plm(lnGNI ~ lnNCDs + lnSFI + lnOPhE + lnIWR , data = project1, model = \"within\")\n",
    "summary(fixedGNI)"
   ]
  },
  {
   "cell_type": "code",
   "execution_count": 46,
   "metadata": {},
   "outputs": [
    {
     "name": "stdout",
     "output_type": "stream",
     "text": [
      "These series are NA and have been removed: X, X.1, X.2, X.3, X.4, X.5, X.6, X.7, X.8, X.9, X.10, X.11, X.12, X.13, X.14\n"
     ]
    },
    {
     "data": {
      "text/plain": [
       "Oneway (individual) effect Random Effect Model \n",
       "   (Swamy-Arora's transformation)\n",
       "\n",
       "Call:\n",
       "plm(formula = lnGNI ~ lnNCDs + lnSFI + lnOPhE + lnIWR, data = project1, \n",
       "    model = \"random\")\n",
       "\n",
       "Balanced Panel: n=2, T=103, N=206\n",
       "\n",
       "Effects:\n",
       "                    var   std.dev share\n",
       "idiosyncratic 4.851e-01 6.965e-01     0\n",
       "individual    2.530e+10 1.590e+05     1\n",
       "theta:  1  \n",
       "\n",
       "Residuals :\n",
       "   Min. 1st Qu.  Median 3rd Qu.    Max. \n",
       "-2.0400 -0.3440  0.0157  0.4580  1.8300 \n",
       "\n",
       "Coefficients :\n",
       "               Estimate  Std. Error t-value  Pr(>|t|)    \n",
       "(Intercept)  1.4116e+00  1.1219e+05  0.0000  0.999990    \n",
       "lnNCDs       4.8193e-01  1.5846e-01  3.0413  0.002670 ** \n",
       "lnSFI        4.9253e-01  1.1964e-01  4.1168 5.607e-05 ***\n",
       "lnOPhE      -3.9880e-01  8.0386e-02 -4.9610 1.490e-06 ***\n",
       "lnIWR        7.9816e-01  3.0668e-01  2.6026  0.009942 ** \n",
       "---\n",
       "Signif. codes:  0 ‘***’ 0.001 ‘**’ 0.01 ‘*’ 0.05 ‘.’ 0.1 ‘ ’ 1\n",
       "\n",
       "Total Sum of Squares:    215.06\n",
       "Residual Sum of Squares: 97.014\n",
       "R-Squared:      0.5489\n",
       "Adj. R-Squared: 0.53992\n",
       "F-statistic: 61.1445 on 4 and 201 DF, p-value: < 2.22e-16"
      ]
     },
     "metadata": {},
     "output_type": "display_data"
    }
   ],
   "source": [
    "randomGNI <- plm(lnGNI ~ lnNCDs + lnSFI + lnOPhE + lnIWR , data = project1, model = \"random\")\n",
    "summary(randomGNI)"
   ]
  },
  {
   "cell_type": "code",
   "execution_count": 47,
   "metadata": {},
   "outputs": [
    {
     "data": {
      "text/plain": [
       "\n",
       "\tHausman Test\n",
       "\n",
       "data:  lnGNI ~ lnNCDs + lnSFI + lnOPhE + lnIWR\n",
       "chisq = 3.6001e-23, df = 4, p-value = 1\n",
       "alternative hypothesis: one model is inconsistent\n"
      ]
     },
     "metadata": {},
     "output_type": "display_data"
    }
   ],
   "source": [
    "phtest(fixedGNI,randomGNI)"
   ]
  },
  {
   "cell_type": "code",
   "execution_count": null,
   "metadata": {
    "collapsed": true
   },
   "outputs": [],
   "source": []
  }
 ],
 "metadata": {
  "kernelspec": {
   "display_name": "R",
   "language": "R",
   "name": "ir"
  },
  "language_info": {
   "codemirror_mode": "r",
   "file_extension": ".r",
   "mimetype": "text/x-r-source",
   "name": "R",
   "pygments_lexer": "r",
   "version": "3.3.2"
  }
 },
 "nbformat": 4,
 "nbformat_minor": 2
}
